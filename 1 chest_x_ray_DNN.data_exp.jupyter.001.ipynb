{
 "cells": [
  {
   "cell_type": "markdown",
   "metadata": {},
   "source": [
    "**CHEST X-RAY IMAGE CLASSIFICATION ADVANCED DATA SCIENCE CAPSTONE PROJECT**\n",
    "\n",
    "Paolo Cavadini, February 2021.\n",
    "\n",
    "Dataset\n",
    "https://www.kaggle.com/paultimothymooney/chest-xray-pneumonia"
   ]
  },
  {
   "cell_type": "markdown",
   "metadata": {},
   "source": [
    "Find on GitHub: https://github.com/pcavad/capstone_x_rays"
   ]
  },
  {
   "cell_type": "code",
   "execution_count": null,
   "metadata": {},
   "outputs": [],
   "source": [
    "import os\n",
    "\n",
    "import keras\n",
    "from keras.preprocessing import image\n",
    "from keras import backend as K\n",
    "from keras.models import Sequential, load_model\n",
    "from keras import layers\n",
    "from keras.layers import Input, Dense, Dropout, Flatten, MaxPool2D \n",
    "from keras.layers import Conv2D, MaxPooling2D, BatchNormalization, SeparableConv2D \n",
    "from keras.optimizers import Adam,SGD,Adagrad,Adadelta,RMSprop\n",
    "from keras.callbacks import ReduceLROnPlateau, ModelCheckpoint,EarlyStopping \n",
    "import itertools\n",
    "import matplotlib.pyplot as plt\n",
    "plt.style.use('seaborn')\n",
    "from mpl_toolkits.mplot3d import Axes3D\n",
    "%matplotlib inline\n",
    "import numpy as np\n",
    "import pandas as pd\n",
    "from sklearn.model_selection import train_test_split\n",
    "from sklearn.linear_model import LogisticRegression\n",
    "from sklearn.metrics import confusion_matrix, accuracy_score \n",
    "import seaborn as sns\n",
    "import tensorflow as tf"
   ]
  },
  {
   "cell_type": "code",
   "execution_count": null,
   "metadata": {},
   "outputs": [],
   "source": [
    "X = np.load('./data/X.npy')\n",
    "Y = np.load('./data/Y.npy')"
   ]
  },
  {
   "cell_type": "markdown",
   "metadata": {},
   "source": [
    "**DATA EXPLORATION**"
   ]
  },
  {
   "cell_type": "code",
   "execution_count": null,
   "metadata": {},
   "outputs": [],
   "source": [
    "# Visualizing random images from train samples.\n",
    "\n",
    "plt.figure(figsize=(10,10))\n",
    "for i in range(1,4):\n",
    "    plt.subplot(1,3,i)\n",
    "    random_num = np.random.randint(0,len(X))\n",
    "    plt.imshow(X[random_num][:,:,:]/255) # normalizing\n",
    "    plt.grid(False)\n",
    "    plt.axis('off')\n",
    "    plt.title('pneumonia' if Y[random_num] == 1 else 'normal')\n",
    "plt.show()"
   ]
  },
  {
   "cell_type": "code",
   "execution_count": null,
   "metadata": {},
   "outputs": [],
   "source": [
    "# Distribution of the labels.\n",
    "\n",
    "fg = sns.displot(data=Y, binwidth=0.4)\n",
    "fg.ax.set_xticks([0.2,1])\n",
    "fg.ax.set_xticklabels(['0 = normal','1 = pneumonia'])\n",
    "fg.ax.set_xlabel('class labels')\n",
    "plt.show()"
   ]
  },
  {
   "cell_type": "code",
   "execution_count": null,
   "metadata": {},
   "outputs": [],
   "source": [
    "# Distribution of the data along the first dimension.\n",
    "\n",
    "print(X[:,0,0,0].min(), X[:,0,0,0].max())\n",
    "plt.hist(X[:,0,0,0])\n",
    "plt.show()"
   ]
  },
  {
   "cell_type": "code",
   "execution_count": null,
   "metadata": {},
   "outputs": [],
   "source": [
    "# Picking a random scan.\n",
    "\n",
    "random_num = np.random.randint(0,len(X))"
   ]
  },
  {
   "cell_type": "code",
   "execution_count": null,
   "metadata": {},
   "outputs": [],
   "source": [
    "# Distribution of the data along the second dimension for the selected scan.\n",
    "\n",
    "print(X[random_num,:,0,0].min(), X[random_num,:,0,0].max())\n",
    "plt.plot(X[random_num,:,0,0])\n",
    "plt.show()"
   ]
  },
  {
   "cell_type": "code",
   "execution_count": null,
   "metadata": {},
   "outputs": [],
   "source": [
    "# Distribution of the data along the third dimension for the selected scan.\n",
    "\n",
    "print(X[random_num,0,:,0].min(), X[random_num,0,:,0].max())\n",
    "plt.plot(X[random_num,0,:,0])\n",
    "plt.show()"
   ]
  },
  {
   "cell_type": "code",
   "execution_count": null,
   "metadata": {},
   "outputs": [],
   "source": [
    "# Min and Max for the last dimension for the selected scan.\n",
    "\n",
    "print(X[random_num,0,0,:].min(), X[random_num,0,0,:].max())"
   ]
  },
  {
   "cell_type": "code",
   "execution_count": null,
   "metadata": {},
   "outputs": [],
   "source": [
    "# 3D representation of the selected scan.\n",
    "\n",
    "fig = plt.figure(figsize=(16,8))\n",
    "ax = Axes3D(fig)\n",
    "\n",
    "ax.scatter(xs=X[random_num][:,0,0], ys=X[random_num][0,:,0], marker='o')\n",
    "ax.set_title('Scan: ' + str(random_num))\n",
    "plt.show()"
   ]
  },
  {
   "cell_type": "code",
   "execution_count": null,
   "metadata": {},
   "outputs": [],
   "source": []
  }
 ],
 "metadata": {
  "kernelspec": {
   "display_name": "Python 3",
   "language": "python",
   "name": "python3"
  },
  "language_info": {
   "codemirror_mode": {
    "name": "ipython",
    "version": 3
   },
   "file_extension": ".py",
   "mimetype": "text/x-python",
   "name": "python",
   "nbconvert_exporter": "python",
   "pygments_lexer": "ipython3",
   "version": "3.8.5"
  }
 },
 "nbformat": 4,
 "nbformat_minor": 4
}
